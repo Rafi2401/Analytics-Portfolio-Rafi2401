{
 "cells": [
  {
   "cell_type": "code",
   "execution_count": 3,
   "id": "d342c054-6171-46b4-9273-10518fd43b5e",
   "metadata": {
    "tags": []
   },
   "outputs": [
    {
     "data": {
      "text/plain": [
       "'Cleaned_Hotel_Reservation_Dataset.csv'"
      ]
     },
     "execution_count": 3,
     "metadata": {},
     "output_type": "execute_result"
    }
   ],
   "source": [
    "import pandas as pd\n",
    "\n",
    "# Memuat data dari file CSV\n",
    "file_path = 'Hotel Reservation Dataset.csv'\n",
    "reservation_data = pd.read_csv(file_path)\n",
    "\n",
    "# Mengubah kolom 'arrival_date' ke format DATE\n",
    "reservation_data['arrival_date'] = pd.to_datetime(reservation_data['arrival_date'], format='%d-%m-%Y', errors='coerce')\n",
    "\n",
    "# Menghapus data duplikat berdasarkan 'Booking_ID'\n",
    "reservation_data.drop_duplicates(subset='Booking_ID', inplace=True)\n",
    "\n",
    "# Menghapus baris dengan nilai yang hilang (missing values)\n",
    "reservation_data.dropna(inplace=True)\n",
    "\n",
    "# Menyimpan hasil data yang telah dibersihkan ke file baru\n",
    "cleaned_file_path = 'Cleaned_Hotel_Reservation_Dataset.csv'\n",
    "reservation_data.to_csv(cleaned_file_path, index=False)\n",
    "\n",
    "cleaned_file_path"
   ]
  },
  {
   "cell_type": "code",
   "execution_count": null,
   "id": "5ffeaba3-1e93-4f89-b3df-7e2c9cc81cba",
   "metadata": {},
   "outputs": [],
   "source": []
  }
 ],
 "metadata": {
  "kernelspec": {
   "display_name": "Python 3 (ipykernel)",
   "language": "python",
   "name": "python3"
  },
  "language_info": {
   "codemirror_mode": {
    "name": "ipython",
    "version": 3
   },
   "file_extension": ".py",
   "mimetype": "text/x-python",
   "name": "python",
   "nbconvert_exporter": "python",
   "pygments_lexer": "ipython3",
   "version": "3.11.7"
  }
 },
 "nbformat": 4,
 "nbformat_minor": 5
}
